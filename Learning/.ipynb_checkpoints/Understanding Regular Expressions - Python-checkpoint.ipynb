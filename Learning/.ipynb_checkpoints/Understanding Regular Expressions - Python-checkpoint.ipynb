{
 "cells": [
  {
   "cell_type": "markdown",
   "metadata": {},
   "source": [
    "RegEx as popularly called is used to validate a string and look for a match\n",
    "\n",
    "As a first step it is required to import the library that support RegEx which is <b>re</b>\n",
    "\n",
    "Resides in (anaconda folder)/lib/re.py"
   ]
  },
  {
   "cell_type": "code",
   "execution_count": 9,
   "metadata": {},
   "outputs": [],
   "source": [
    "import re"
   ]
  },
  {
   "cell_type": "code",
   "execution_count": 10,
   "metadata": {},
   "outputs": [],
   "source": [
    "obj = re.search('my', 'myself')"
   ]
  },
  {
   "cell_type": "code",
   "execution_count": 11,
   "metadata": {},
   "outputs": [
    {
     "data": {
      "text/plain": [
       "re.Match"
      ]
     },
     "execution_count": 11,
     "metadata": {},
     "output_type": "execute_result"
    }
   ],
   "source": [
    "type(obj)"
   ]
  },
  {
   "cell_type": "markdown",
   "metadata": {},
   "source": [
    "When it is assigned to a variable, it basically assigns a 'None' if the match is not found.\n",
    "The point is the search does not return a boolean and it returns a 'Match' object that has bunch of funtionalities"
   ]
  },
  {
   "cell_type": "code",
   "execution_count": 20,
   "metadata": {},
   "outputs": [],
   "source": [
    "def multi_Response(patterns, phrase):\n",
    "    #the function takes in a list of pattern and a phrase and applies the RegEx for each pattern on the phrase\n",
    "    \n",
    "    for pattern in patterns:\n",
    "        print(re.findall(pattern,phrase))\n",
    "        print(\"\\n\")\n",
    "    "
   ]
  },
  {
   "cell_type": "markdown",
   "metadata": {},
   "source": [
    "## Repetition Syntax"
   ]
  },
  {
   "cell_type": "code",
   "execution_count": 22,
   "metadata": {},
   "outputs": [
    {
     "name": "stdout",
     "output_type": "stream",
     "text": [
      "['a', 'ab', 'abbb', 'a', 'abb', 'abb', 'a', 'a', 'a', 'abbbbb']\n",
      "\n",
      "\n",
      "['ab', 'abbb', 'abb', 'abb', 'abbbbb']\n",
      "\n",
      "\n",
      "['a', 'ab', 'ab', 'a', 'ab', 'ab', 'a', 'a', 'a', 'ab']\n",
      "\n",
      "\n",
      "['abb', 'abb', 'abb', 'abb']\n",
      "\n",
      "\n",
      "['abbb', 'abb', 'abb', 'abbb']\n",
      "\n",
      "\n"
     ]
    }
   ],
   "source": [
    "#let say if we have a bunch of patterns to match\n",
    "# and a string \n",
    "\n",
    "pattern = [\n",
    "           \"ab*\", # a followed by zero or more b's \n",
    "           \"ab+\", # a folowed by atleast 1 b\n",
    "           \"ab?\", # a followed by zero or 1 d's\n",
    "           \"ab{2}\", # a follwed by 2 b's\n",
    "           \"ab{2,3}\" # a followed by 2 to 3 b's\n",
    "          ]\n",
    "\n",
    "phrase  =  \"aab..abbb..aabb..abb..aaaabbbbb\"\n",
    "\n",
    "multi_Response(pattern, phrase)"
   ]
  },
  {
   "cell_type": "markdown",
   "metadata": {},
   "source": [
    "## Character sets"
   ]
  },
  {
   "cell_type": "code",
   "execution_count": 23,
   "metadata": {},
   "outputs": [
    {
     "name": "stdout",
     "output_type": "stream",
     "text": [
      "['c', 'c', 'd', 'd', 'c', 'c', 'c', 'c', 'd', 'c', 'd', 'd', 'd', 'c', 'c', 'd', 'd']\n",
      "\n",
      "\n",
      "['cd', 'cc', 'cc', 'cd', 'cc']\n",
      "\n",
      "\n"
     ]
    }
   ],
   "source": [
    "# matcing one or more of the characters\n",
    "\n",
    "phrase = \"c..cdd.ccccd..cddd.ccdd\"\n",
    "pattern = [\n",
    "            \"[cd]\" , # c or d's presence\n",
    "            \"c[cd]\"  # c needed followed by c or d\n",
    "          ]\n",
    "\n",
    "multi_Response(pattern, phrase)\n"
   ]
  },
  {
   "cell_type": "markdown",
   "metadata": {},
   "source": [
    "# Exclusion"
   ]
  },
  {
   "cell_type": "code",
   "execution_count": 26,
   "metadata": {},
   "outputs": [
    {
     "data": {
      "text/plain": [
       "'I  would like to remove all   except aphabets from this sentence  can you'"
      ]
     },
     "execution_count": 26,
     "metadata": {},
     "output_type": "execute_result"
    }
   ],
   "source": [
    "# excludes the charaters from the string\n",
    "\n",
    "phrase  = \"I ! would like to remove, all ! , except aphabets from this sentence . can you?\"\n",
    "\n",
    "pattern = '[^.!?,]'\n",
    "\n",
    "''.join( re.findall(pattern, phrase))"
   ]
  },
  {
   "cell_type": "code",
   "execution_count": null,
   "metadata": {},
   "outputs": [],
   "source": []
  }
 ],
 "metadata": {
  "kernelspec": {
   "display_name": "Python 3",
   "language": "python",
   "name": "python3"
  },
  "language_info": {
   "codemirror_mode": {
    "name": "ipython",
    "version": 3
   },
   "file_extension": ".py",
   "mimetype": "text/x-python",
   "name": "python",
   "nbconvert_exporter": "python",
   "pygments_lexer": "ipython3",
   "version": "3.7.7"
  }
 },
 "nbformat": 4,
 "nbformat_minor": 4
}
